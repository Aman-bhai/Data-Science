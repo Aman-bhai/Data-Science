{
 "cells": [
  {
   "cell_type": "markdown",
   "id": "57ddd674",
   "metadata": {},
   "source": [
    "# OOPs (Object Oriented Programming)\n",
    "\n",
    "- oops is an approach for writing programs by creating object and class\n",
    "\n",
    "### object-\n",
    "\n",
    "- An object in OOPs represent a real-lifes object example email,man,student,etc.\n",
    "- Every object two properties (attributes and behaviour)\n",
    "\n",
    "### Class\n",
    "\n",
    "- class represent the blueprint of the object\n",
    "- class can consist both data member and memver function\n",
    "- it is an user-defined datatype\n"
   ]
  },
  {
   "cell_type": "code",
   "execution_count": 2,
   "id": "e9ee987d",
   "metadata": {},
   "outputs": [
    {
     "name": "stdout",
     "output_type": "stream",
     "text": [
      "<__main__.student object at 0x0000022963191B90>\n",
      "<class '__main__.student'>\n"
     ]
    }
   ],
   "source": [
    "class student:\n",
    "    pass\n",
    "\n",
    "s=student()\n",
    "print(s)\n",
    "print(type(s))"
   ]
  },
  {
   "cell_type": "code",
   "execution_count": 5,
   "id": "71a6ac2f",
   "metadata": {},
   "outputs": [
    {
     "name": "stdout",
     "output_type": "stream",
     "text": [
      "Raman\n",
      "Student name : Raman and age :20\n"
     ]
    }
   ],
   "source": [
    "class student:\n",
    "    def __init__(self):                                  # constructor\n",
    "        self.name=\"Raman\"\n",
    "\n",
    "s=student()\n",
    "print(s.name)\n",
    "\n",
    "class student:\n",
    "    def __init__(self,name,age):                          \n",
    "        self.name=name\n",
    "        self.age=age\n",
    "\n",
    "s=student(\"Raman\",20)\n",
    "print(\"Student name : {} and age :{}\".format(s.name,s.age))\n",
    "        "
   ]
  },
  {
   "cell_type": "code",
   "execution_count": 7,
   "id": "2c04fc48",
   "metadata": {},
   "outputs": [
    {
     "name": "stdout",
     "output_type": "stream",
     "text": [
      "Student Name : Raman\n",
      "Student Age :  20\n"
     ]
    }
   ],
   "source": [
    "class student:\n",
    "    def __init__(self,name,age):                          \n",
    "        self.name=name\n",
    "        self.age=age\n",
    "        \n",
    "    def display(self):\n",
    "        print(\"Student Name :\",self.name)\n",
    "        print(\"Student Age : \",self.age)\n",
    "\n",
    "s=student(\"Raman\",20)\n",
    "s.display()"
   ]
  },
  {
   "cell_type": "markdown",
   "id": "65fea1f2",
   "metadata": {},
   "source": [
    "### class built in function\n",
    "\n",
    "- getattr(object,attr)\n",
    "- setattr(object,attr,value)\n",
    "- delattr(object,attr)\n",
    "- hasattr(object,attr)"
   ]
  },
  {
   "cell_type": "markdown",
   "id": "487d8651",
   "metadata": {},
   "source": [
    "### Access Modifier"
   ]
  },
  {
   "cell_type": "code",
   "execution_count": 12,
   "id": "490e3b34",
   "metadata": {},
   "outputs": [
    {
     "name": "stdout",
     "output_type": "stream",
     "text": [
      "val=10 , _val=20 ,__val=10\n",
      "val=100 , _val=1000 ,__val=10\n",
      "val=100 , _val=1000 ,__val=50\n"
     ]
    }
   ],
   "source": [
    "class A:\n",
    "    # underscores used for access modifier\n",
    "    # val=10              #public\n",
    "    # _val=20              #protected\n",
    "    # __val=10              #private\n",
    "\n",
    "    def __init__(self,v1,v2,v3):\n",
    "        self.val=v1\n",
    "        self._val=v2\n",
    "        self.__val=v3\n",
    "\n",
    "    def dis(self):\n",
    "        return f\"val={self.val} , _val={self._val} ,__val={self.__val}\"\n",
    "    \n",
    "a=A(10,20,10)\n",
    "print(a.dis())\n",
    "\n",
    "a.val=100\n",
    "a._val=1000 \n",
    "a.__val=10000\n",
    "\n",
    "print(a.dis())          #private part can't change\n",
    "\n",
    "\n",
    "a._A__val=50\n",
    "print(a.dis())\n"
   ]
  },
  {
   "cell_type": "markdown",
   "id": "0afe343a",
   "metadata": {},
   "source": [
    "## Inheritance\n",
    "\n",
    "### Single Inheritance\n"
   ]
  },
  {
   "cell_type": "code",
   "execution_count": 8,
   "id": "4c41273a",
   "metadata": {},
   "outputs": [
    {
     "name": "stdout",
     "output_type": "stream",
     "text": [
      "class B\n",
      "Class A\n"
     ]
    }
   ],
   "source": [
    "class A():\n",
    "    def display(self):\n",
    "        print(\"Class A\")\n",
    "\n",
    "class B(A):\n",
    "    def display1(self):\n",
    "        print(\"class B\")\n",
    "\n",
    "b=B()\n",
    "b.display1()\n",
    "b.display()"
   ]
  },
  {
   "cell_type": "markdown",
   "id": "7f7debc0",
   "metadata": {},
   "source": [
    "### Multiple Inheritance"
   ]
  },
  {
   "cell_type": "code",
   "execution_count": null,
   "id": "f3a0aacf",
   "metadata": {},
   "outputs": [],
   "source": [
    "class A():\n",
    "    def display(self):\n",
    "        print(\"Class A\")\n",
    "        \n",
    "class B():\n",
    "    def display1(self):\n",
    "        print(\"Class B\")\n",
    "        \n",
    "        \n",
    "class C(A,B):\n",
    "    def display2(self):\n",
    "        A.display(self)\n",
    "        print(\"Class C\")\n",
    "\n",
    "a=C()\n",
    "A.display(1)\n",
    "a.display()\n",
    "a.display1()\n",
    "a.display2()"
   ]
  },
  {
   "cell_type": "markdown",
   "id": "a6b7dbb4",
   "metadata": {},
   "source": [
    "### Multilevel Inheritance"
   ]
  },
  {
   "cell_type": "code",
   "execution_count": 9,
   "id": "6d2b0914",
   "metadata": {},
   "outputs": [
    {
     "name": "stdout",
     "output_type": "stream",
     "text": [
      "Class A\n",
      "Class B\n",
      "Class A\n",
      "Class B\n",
      "Class C\n"
     ]
    }
   ],
   "source": [
    "class A():\n",
    "    def show(self):\n",
    "        print(\"Class A\")\n",
    "        \n",
    "class B(A):\n",
    "    def show1(self):\n",
    "        print(\"Class B\")\n",
    "\n",
    "class C(B):\n",
    "    def show2(self):\n",
    "        print(\"Class C\")\n",
    "\n",
    "\n",
    "b=B()\n",
    "b.show()\n",
    "b.show1()\n",
    "\n",
    "c=C()\n",
    "c.show()\n",
    "c.show1()\n",
    "c.show2()"
   ]
  },
  {
   "cell_type": "markdown",
   "id": "dfc93f0a",
   "metadata": {},
   "source": [
    "### hierarchical inheritance"
   ]
  },
  {
   "cell_type": "code",
   "execution_count": 13,
   "id": "dc656c11",
   "metadata": {},
   "outputs": [
    {
     "name": "stdout",
     "output_type": "stream",
     "text": [
      "Class A\n",
      "Class B\n",
      "Class A\n"
     ]
    }
   ],
   "source": [
    "class A():\n",
    "    def show(self):\n",
    "        print(\"Class A\")\n",
    "\n",
    "class B(A):\n",
    "    def show1(self):\n",
    "        print(\"Class B\")\n",
    "\n",
    "class C(A):\n",
    "    def show2(self):\n",
    "        print(\"Class C\")\n",
    "\n",
    "\n",
    "b=B()\n",
    "b.show()\n",
    "b.show1()\n",
    "\n",
    "c=C()\n",
    "c.show()\n",
    "# c.show1()"
   ]
  },
  {
   "cell_type": "markdown",
   "id": "22dd661b",
   "metadata": {},
   "source": [
    "### super constructor"
   ]
  },
  {
   "cell_type": "code",
   "execution_count": 14,
   "id": "a3f922d0",
   "metadata": {},
   "outputs": [
    {
     "name": "stdout",
     "output_type": "stream",
     "text": [
      "constructor A\n",
      "constructor b\n",
      "20\n"
     ]
    }
   ],
   "source": [
    "class A:\n",
    "    def __init__(self,val):\n",
    "        print('constructor A')\n",
    "        self.val=val\n",
    "\n",
    "    def dis(self):\n",
    "        print(\"dis of a\")\n",
    "    \n",
    "class B(A):\n",
    "    def __init__(self, val):\n",
    "        super().__init__(val)\n",
    "        print('constructor b')\n",
    "        self.val=val+10\n",
    "\n",
    "    def dis(self):\n",
    "        return self.val\n",
    "\n",
    "b=B(10)\n",
    "print(b.dis())"
   ]
  },
  {
   "cell_type": "markdown",
   "id": "8a677220",
   "metadata": {},
   "source": [
    "## Operator Overloading"
   ]
  },
  {
   "cell_type": "code",
   "execution_count": 15,
   "id": "cd01fc1c",
   "metadata": {},
   "outputs": [
    {
     "name": "stdout",
     "output_type": "stream",
     "text": [
      "100\n",
      "200\n",
      "300\n",
      "-100\n"
     ]
    }
   ],
   "source": [
    "class bprice:\n",
    "    price=0\n",
    "    def set(self,p):\n",
    "        self.price=p\n",
    "\n",
    "    def get(self):\n",
    "        return self.price\n",
    "\n",
    "    def __add__(self,o):\n",
    "        # temp=self.price\n",
    "        # self.price=temp+o.price\n",
    "        # self.price=self.price+o.price\n",
    "        # return 0\n",
    "        return self.price+o.price\n",
    "\n",
    "    def __sub__(self,o):\n",
    "        return self.price-o.price\n",
    "    \n",
    "p1=bprice()\n",
    "p1.set(100)\n",
    "p2=bprice()\n",
    "p2.set(200)\n",
    "print(p1.get())\n",
    "print(p2.get())\n",
    "\n",
    "print(p1+p2)\n",
    "\n",
    "print(p1-p2)"
   ]
  },
  {
   "cell_type": "code",
   "execution_count": null,
   "id": "afa0e4b6",
   "metadata": {},
   "outputs": [],
   "source": []
  }
 ],
 "metadata": {
  "kernelspec": {
   "display_name": "Python 3 (ipykernel)",
   "language": "python",
   "name": "python3"
  },
  "language_info": {
   "codemirror_mode": {
    "name": "ipython",
    "version": 3
   },
   "file_extension": ".py",
   "mimetype": "text/x-python",
   "name": "python",
   "nbconvert_exporter": "python",
   "pygments_lexer": "ipython3",
   "version": "3.11.5"
  }
 },
 "nbformat": 4,
 "nbformat_minor": 5
}
